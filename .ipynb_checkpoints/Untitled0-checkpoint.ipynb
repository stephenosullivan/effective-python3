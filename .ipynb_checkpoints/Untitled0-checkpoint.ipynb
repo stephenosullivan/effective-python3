{
 "metadata": {
  "name": "",
  "signature": "sha256:d65af6d41caaa260ca63870efecf4cb2c85b888bffbc42e00b6f5860f35ee87d"
 },
 "nbformat": 3,
 "nbformat_minor": 0,
 "worksheets": []
}